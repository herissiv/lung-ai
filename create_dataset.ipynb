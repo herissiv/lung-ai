{
 "cells": [
  {
   "cell_type": "markdown",
   "metadata": {},
   "source": [
    "#### Want to create datasets to the yolov8 algoritm. Train test and val and test. \n",
    "#### Given that i have 19 examples, my train will be 11 samples and my test and val will each have 4 examples "
   ]
  },
  {
   "cell_type": "code",
   "execution_count": 2,
   "metadata": {},
   "outputs": [],
   "source": [
    "import os \n",
    "import math \n",
    "import shutil"
   ]
  },
  {
   "cell_type": "code",
   "execution_count": 2,
   "metadata": {},
   "outputs": [],
   "source": [
    "i = 0\n",
    "for root, dirs, files in os.walk(\"/home/heris/data/RAW/YOLO_dataset/\"):\n",
    "    if i < 5: \n",
    "        print(root, dirs, files)\n",
    "        i+=1"
   ]
  },
  {
   "cell_type": "code",
   "execution_count": 3,
   "metadata": {},
   "outputs": [],
   "source": [
    "def datasets(root_path:str, destination_path:str, trainPercent:float, val_testPercent:float):\n",
    "\n",
    "    if trainPercent + val_testPercent != 1: \n",
    "        raise ValueError\n",
    "    \n",
    "    train_val_test = [\"/train\",\"/validation\",\"/test\"]\n",
    "\n",
    "    for elem in train_val_test:\n",
    "        if os.path.exists(destination_path+elem):\n",
    "            shutil.rmtree(destination_path+elem)\n",
    "    \n",
    "    for elem in train_val_test:\n",
    "        if not os.path.exists(destination_path+elem):\n",
    "            os.mkdir(destination_path+elem)\n",
    "    \n",
    "    img_labels = [\"/images\", \"/labels\"]\n",
    "    for elem in train_val_test:\n",
    "        for folder in img_labels:\n",
    "            os.mkdir(destination_path+elem+folder)\n",
    "\n",
    "    \n",
    "    i=1\n",
    "    for root, dirs, files in os.walk(root_path): \n",
    "        if len(files) != 0: \n",
    "            n_tot = len(files)/2 #png and txt file\n",
    "            n_train = math.floor(n_tot*trainPercent)\n",
    "            n_val = math.floor((n_tot-n_train))-100 #change -100 to /2\n",
    "            n_test = n_tot-n_train-n_val\n",
    "            ############################################################################################\n",
    "            #implement random order in files\n",
    "            ############################################################################################\n",
    "            for file in files: \n",
    "                if file[-1] == \"t\" and i<=n_train:\n",
    "                    if os.path.exists(root+\"/\"+file[0:-3]+\"png\"):\n",
    "                        shutil.copy(root+\"/\"+file,destination_path+train_val_test[0]+img_labels[1])\n",
    "                        shutil.copy(root+\"/\"+file[0:-3]+\"png\",destination_path+train_val_test[0]+img_labels[0])\n",
    "                        i+=1\n",
    "                elif file[-1] == \"t\" and i<=n_train+n_val:\n",
    "                    if os.path.exists(root+\"/\"+file[0:-3]+\"png\"):\n",
    "                        shutil.copy(root+\"/\"+file,destination_path+train_val_test[1]+img_labels[1])\n",
    "                        shutil.copy(root+\"/\"+file[0:-3]+\"png\",destination_path+train_val_test[1]+img_labels[0])\n",
    "                        i+=1\n",
    "                elif file[-1] == \"t\" and i<= n_tot:\n",
    "                    if os.path.exists(root+\"/\"+file[0:-3]+\"png\"):\n",
    "                        shutil.copy(root+\"/\"+file,destination_path+train_val_test[2]+img_labels[1])\n",
    "                        shutil.copy(root+\"/\"+file[0:-3]+\"png\",destination_path+train_val_test[2]+img_labels[0])\n",
    "                        i+=1\n",
    "        \n",
    "\n"
   ]
  },
  {
   "cell_type": "code",
   "execution_count": 4,
   "metadata": {},
   "outputs": [
    {
     "ename": "KeyboardInterrupt",
     "evalue": "",
     "output_type": "error",
     "traceback": [
      "\u001b[0;31m---------------------------------------------------------------------------\u001b[0m",
      "\u001b[0;31mKeyboardInterrupt\u001b[0m                         Traceback (most recent call last)",
      "\u001b[1;32m/home/heris/master-thesis/create_dataset.ipynb Cell 5\u001b[0m line \u001b[0;36m1\n\u001b[0;32m----> <a href='vscode-notebook-cell:/home/heris/master-thesis/create_dataset.ipynb#W4sZmlsZQ%3D%3D?line=0'>1</a>\u001b[0m datasets(\u001b[39m\"\u001b[39;49m\u001b[39m/home/heris/data/RAW/YOLO_obj_pre_dataset\u001b[39;49m\u001b[39m\"\u001b[39;49m, \u001b[39m\"\u001b[39;49m\u001b[39m/home/heris/data/RAW/YOLO_obj_dataset\u001b[39;49m\u001b[39m\"\u001b[39;49m,\u001b[39m0.6\u001b[39;49m,\u001b[39m0.4\u001b[39;49m)\n",
      "\u001b[1;32m/home/heris/master-thesis/create_dataset.ipynb Cell 5\u001b[0m line \u001b[0;36m3\n\u001b[1;32m     <a href='vscode-notebook-cell:/home/heris/master-thesis/create_dataset.ipynb#W4sZmlsZQ%3D%3D?line=33'>34</a>\u001b[0m     \u001b[39mif\u001b[39;00m os\u001b[39m.\u001b[39mpath\u001b[39m.\u001b[39mexists(root\u001b[39m+\u001b[39m\u001b[39m\"\u001b[39m\u001b[39m/\u001b[39m\u001b[39m\"\u001b[39m\u001b[39m+\u001b[39mfile[\u001b[39m0\u001b[39m:\u001b[39m-\u001b[39m\u001b[39m3\u001b[39m]\u001b[39m+\u001b[39m\u001b[39m\"\u001b[39m\u001b[39mpng\u001b[39m\u001b[39m\"\u001b[39m):\n\u001b[1;32m     <a href='vscode-notebook-cell:/home/heris/master-thesis/create_dataset.ipynb#W4sZmlsZQ%3D%3D?line=34'>35</a>\u001b[0m         shutil\u001b[39m.\u001b[39mcopy(root\u001b[39m+\u001b[39m\u001b[39m\"\u001b[39m\u001b[39m/\u001b[39m\u001b[39m\"\u001b[39m\u001b[39m+\u001b[39mfile,destination_path\u001b[39m+\u001b[39mtrain_val_test[\u001b[39m0\u001b[39m]\u001b[39m+\u001b[39mimg_labels[\u001b[39m1\u001b[39m])\n\u001b[0;32m---> <a href='vscode-notebook-cell:/home/heris/master-thesis/create_dataset.ipynb#W4sZmlsZQ%3D%3D?line=35'>36</a>\u001b[0m         shutil\u001b[39m.\u001b[39;49mcopy(root\u001b[39m+\u001b[39;49m\u001b[39m\"\u001b[39;49m\u001b[39m/\u001b[39;49m\u001b[39m\"\u001b[39;49m\u001b[39m+\u001b[39;49mfile[\u001b[39m0\u001b[39;49m:\u001b[39m-\u001b[39;49m\u001b[39m3\u001b[39;49m]\u001b[39m+\u001b[39;49m\u001b[39m\"\u001b[39;49m\u001b[39mpng\u001b[39;49m\u001b[39m\"\u001b[39;49m,destination_path\u001b[39m+\u001b[39;49mtrain_val_test[\u001b[39m0\u001b[39;49m]\u001b[39m+\u001b[39;49mimg_labels[\u001b[39m0\u001b[39;49m])\n\u001b[1;32m     <a href='vscode-notebook-cell:/home/heris/master-thesis/create_dataset.ipynb#W4sZmlsZQ%3D%3D?line=36'>37</a>\u001b[0m         i\u001b[39m+\u001b[39m\u001b[39m=\u001b[39m\u001b[39m1\u001b[39m\n\u001b[1;32m     <a href='vscode-notebook-cell:/home/heris/master-thesis/create_dataset.ipynb#W4sZmlsZQ%3D%3D?line=37'>38</a>\u001b[0m \u001b[39melif\u001b[39;00m file[\u001b[39m-\u001b[39m\u001b[39m1\u001b[39m] \u001b[39m==\u001b[39m \u001b[39m\"\u001b[39m\u001b[39mt\u001b[39m\u001b[39m\"\u001b[39m \u001b[39mand\u001b[39;00m i\u001b[39m<\u001b[39m\u001b[39m=\u001b[39mn_train\u001b[39m+\u001b[39mn_val:\n",
      "File \u001b[0;32m~/.conda/envs/master/lib/python3.10/shutil.py:417\u001b[0m, in \u001b[0;36mcopy\u001b[0;34m(src, dst, follow_symlinks)\u001b[0m\n\u001b[1;32m    415\u001b[0m \u001b[39mif\u001b[39;00m os\u001b[39m.\u001b[39mpath\u001b[39m.\u001b[39misdir(dst):\n\u001b[1;32m    416\u001b[0m     dst \u001b[39m=\u001b[39m os\u001b[39m.\u001b[39mpath\u001b[39m.\u001b[39mjoin(dst, os\u001b[39m.\u001b[39mpath\u001b[39m.\u001b[39mbasename(src))\n\u001b[0;32m--> 417\u001b[0m copyfile(src, dst, follow_symlinks\u001b[39m=\u001b[39;49mfollow_symlinks)\n\u001b[1;32m    418\u001b[0m copymode(src, dst, follow_symlinks\u001b[39m=\u001b[39mfollow_symlinks)\n\u001b[1;32m    419\u001b[0m \u001b[39mreturn\u001b[39;00m dst\n",
      "File \u001b[0;32m~/.conda/envs/master/lib/python3.10/shutil.py:267\u001b[0m, in \u001b[0;36mcopyfile\u001b[0;34m(src, dst, follow_symlinks)\u001b[0m\n\u001b[1;32m    265\u001b[0m \u001b[39melif\u001b[39;00m _USE_CP_SENDFILE:\n\u001b[1;32m    266\u001b[0m     \u001b[39mtry\u001b[39;00m:\n\u001b[0;32m--> 267\u001b[0m         _fastcopy_sendfile(fsrc, fdst)\n\u001b[1;32m    268\u001b[0m         \u001b[39mreturn\u001b[39;00m dst\n\u001b[1;32m    269\u001b[0m     \u001b[39mexcept\u001b[39;00m _GiveupOnFastCopy:\n",
      "File \u001b[0;32m~/.conda/envs/master/lib/python3.10/shutil.py:142\u001b[0m, in \u001b[0;36m_fastcopy_sendfile\u001b[0;34m(fsrc, fdst)\u001b[0m\n\u001b[1;32m    140\u001b[0m \u001b[39mwhile\u001b[39;00m \u001b[39mTrue\u001b[39;00m:\n\u001b[1;32m    141\u001b[0m     \u001b[39mtry\u001b[39;00m:\n\u001b[0;32m--> 142\u001b[0m         sent \u001b[39m=\u001b[39m os\u001b[39m.\u001b[39;49msendfile(outfd, infd, offset, blocksize)\n\u001b[1;32m    143\u001b[0m     \u001b[39mexcept\u001b[39;00m \u001b[39mOSError\u001b[39;00m \u001b[39mas\u001b[39;00m err:\n\u001b[1;32m    144\u001b[0m         \u001b[39m# ...in oder to have a more informative exception.\u001b[39;00m\n\u001b[1;32m    145\u001b[0m         err\u001b[39m.\u001b[39mfilename \u001b[39m=\u001b[39m fsrc\u001b[39m.\u001b[39mname\n",
      "\u001b[0;31mKeyboardInterrupt\u001b[0m: "
     ]
    }
   ],
   "source": [
    "datasets(\"/home/heris/data/RAW/YOLO_obj_pre_dataset\", \"/home/heris/data/RAW/YOLO_obj_dataset\",0.6,0.4)"
   ]
  },
  {
   "cell_type": "code",
   "execution_count": 5,
   "metadata": {},
   "outputs": [],
   "source": [
    "datasets(\"/home/heris/data/RAW/YOLO_seg_pre_dataset\", \"/home/heris/data/RAW/YOLO_seg_dataset\",0.8,0.2) #change 0.8 and 0.2 to 0.6 and 0.4\n",
    "\n"
   ]
  },
  {
   "cell_type": "code",
   "execution_count": 4,
   "metadata": {},
   "outputs": [],
   "source": [
    "datasets(\"/home/heris/data/RAW/overlapping/YOLO_seg_pre_dataset_overlapping_area_req\",\"/home/heris/data/RAW/overlapping/YOLO_seg_dataset_overlapping\",0.8,0.2)"
   ]
  },
  {
   "cell_type": "code",
   "execution_count": null,
   "metadata": {},
   "outputs": [],
   "source": []
  }
 ],
 "metadata": {
  "kernelspec": {
   "display_name": "master",
   "language": "python",
   "name": "python3"
  },
  "language_info": {
   "codemirror_mode": {
    "name": "ipython",
    "version": 3
   },
   "file_extension": ".py",
   "mimetype": "text/x-python",
   "name": "python",
   "nbconvert_exporter": "python",
   "pygments_lexer": "ipython3",
   "version": "3.10.13"
  }
 },
 "nbformat": 4,
 "nbformat_minor": 2
}
