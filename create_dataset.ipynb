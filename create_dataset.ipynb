{
 "cells": [
  {
   "cell_type": "markdown",
   "metadata": {},
   "source": [
    "#### Want to create datasets to the yolov8 algoritm. Train test and val and test. \n",
    "#### Given that i have 19 examples, my train will be 11 samples and my test and val will each have 4 examples "
   ]
  },
  {
   "cell_type": "code",
   "execution_count": 1,
   "metadata": {},
   "outputs": [],
   "source": [
    "import os \n",
    "import math \n",
    "import shutil"
   ]
  },
  {
   "cell_type": "code",
   "execution_count": 2,
   "metadata": {},
   "outputs": [],
   "source": [
    "i = 0\n",
    "for root, dirs, files in os.walk(\"/home/heris/data/RAW/YOLO_dataset/\"):\n",
    "    if i < 5: \n",
    "        print(root, dirs, files)\n",
    "        i+=1"
   ]
  },
  {
   "cell_type": "code",
   "execution_count": 3,
   "metadata": {},
   "outputs": [],
   "source": [
    "def datasets(root_path:str, destination_path:str, trainPercent:float, val_testPercent:float):\n",
    "\n",
    "    if trainPercent + val_testPercent != 1: \n",
    "        raise ValueError\n",
    "    \n",
    "    train_val_test = [\"/train\",\"/validation\",\"/test\"]\n",
    "\n",
    "    for elem in train_val_test:\n",
    "        if os.path.exists(destination_path+elem):\n",
    "            shutil.rmtree(destination_path+elem)\n",
    "    \n",
    "    for elem in train_val_test:\n",
    "        if not os.path.exists(destination_path+elem):\n",
    "            os.mkdir(destination_path+elem)\n",
    "    \n",
    "    img_labels = [\"/images\", \"/labels\"]\n",
    "    for elem in train_val_test:\n",
    "        for folder in img_labels:\n",
    "            os.mkdir(destination_path+elem+folder)\n",
    "\n",
    "    \n",
    "    i=1\n",
    "    for root, dirs, files in os.walk(root_path): \n",
    "        if len(files) != 0: \n",
    "            n_tot = len(files)/2 #png and txt file\n",
    "            n_train = math.floor(n_tot*trainPercent)\n",
    "            n_val = math.floor((n_tot-n_train)/2)\n",
    "            n_test = n_tot-n_train-n_val\n",
    "            ############################################################################################\n",
    "            #implement random order in files\n",
    "            ############################################################################################\n",
    "            for file in files: \n",
    "                if file[-1] == \"t\" and i<=n_train:\n",
    "                    if os.path.exists(root+\"/\"+file[0:-3]+\"png\"):\n",
    "                        shutil.copy(root+\"/\"+file,destination_path+train_val_test[0]+img_labels[1])\n",
    "                        shutil.copy(root+\"/\"+file[0:-3]+\"png\",destination_path+train_val_test[0]+img_labels[0])\n",
    "                        i+=1\n",
    "                elif file[-1] == \"t\" and i<=n_train+n_val:\n",
    "                    if os.path.exists(root+\"/\"+file[0:-3]+\"png\"):\n",
    "                        shutil.copy(root+\"/\"+file,destination_path+train_val_test[1]+img_labels[1])\n",
    "                        shutil.copy(root+\"/\"+file[0:-3]+\"png\",destination_path+train_val_test[1]+img_labels[0])\n",
    "                        i+=1\n",
    "                elif file[-1] == \"t\" and i<= n_tot:\n",
    "                    if os.path.exists(root+\"/\"+file[0:-3]+\"png\"):\n",
    "                        shutil.copy(root+\"/\"+file,destination_path+train_val_test[2]+img_labels[1])\n",
    "                        shutil.copy(root+\"/\"+file[0:-3]+\"png\",destination_path+train_val_test[2]+img_labels[0])\n",
    "                        i+=1\n",
    "        \n",
    "\n"
   ]
  },
  {
   "cell_type": "code",
   "execution_count": 4,
   "metadata": {},
   "outputs": [],
   "source": [
    "datasets(\"/home/heris/data/RAW/YOLO_obj_pre_dataset\", \"/home/heris/data/RAW/YOLO_obj_dataset\",0.6,0.4)"
   ]
  },
  {
   "cell_type": "code",
   "execution_count": 5,
   "metadata": {},
   "outputs": [],
   "source": [
    "datasets(\"/home/heris/data/RAW/YOLO_seg_pre_dataset\", \"/home/heris/data/RAW/YOLO_seg_dataset\",0.6,0.4)\n"
   ]
  },
  {
   "cell_type": "code",
   "execution_count": null,
   "metadata": {},
   "outputs": [],
   "source": []
  }
 ],
 "metadata": {
  "kernelspec": {
   "display_name": "master",
   "language": "python",
   "name": "python3"
  },
  "language_info": {
   "codemirror_mode": {
    "name": "ipython",
    "version": 3
   },
   "file_extension": ".py",
   "mimetype": "text/x-python",
   "name": "python",
   "nbconvert_exporter": "python",
   "pygments_lexer": "ipython3",
   "version": "3.10.13"
  }
 },
 "nbformat": 4,
 "nbformat_minor": 2
}
