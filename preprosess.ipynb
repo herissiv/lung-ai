{
 "cells": [
  {
   "cell_type": "code",
   "execution_count": 36,
   "metadata": {},
   "outputs": [],
   "source": [
    "from PIL import Image\n",
    "import os"
   ]
  },
  {
   "cell_type": "code",
   "execution_count": 34,
   "metadata": {},
   "outputs": [],
   "source": [
    "\n",
    "\n",
    "# Open the PNG image\n",
    "image = Image.open(\"modified_image_1.3.6.1.4.1.14519.5.2.1.6279.6001.202709423777326615340853838834.png\")\n",
    "\n",
    "# Get the pixel data as a list\n",
    "pixel_data = list(image.getdata())\n",
    "\n",
    "# Iterate through the pixel data and modify the values as needed\n",
    "modified_pixel_data = []\n",
    "for pixel in pixel_data:\n",
    "    # Modify the pixel value here (e.g., adjust intensity)\n",
    "    intensity = pixel  # For grayscale, pixel is a single value\n",
    "    if intensity <= 33000: \n",
    "        intensity = 0\n",
    "    if intensity >= 34500:\n",
    "        intensity = 65535\n",
    "\n",
    "    modified_pixel_data.append(intensity)\n",
    "\n",
    "\n",
    "\n",
    "# Update the image with the modified pixel data\n",
    "image.putdata(modified_pixel_data)\n",
    "\n",
    "# Save the modified image\n",
    "image.save(\"modified_image_1.3.6.1.4.1.14519.5.2.1.6279.6001.202709423777326615340853838834.png\")"
   ]
  },
  {
   "cell_type": "code",
   "execution_count": 55,
   "metadata": {},
   "outputs": [],
   "source": [
    "def preprosess_color_of_image(img_path: str): \n",
    "    image= Image.open(img_path)\n",
    "    # Get the image's metadata\n",
    "    image_info = image.info\n",
    "\n",
    "   \n",
    "    pixel_data = list(image.getdata())\n",
    "    #To find out if we're dealing with a 16 bit or a 8 bit image:\n",
    "    information = []\n",
    "    for pixel in pixel_data:\n",
    "        information.append(pixel)\n",
    "    information.sort()\n",
    "    if information[-1]>255: \n",
    "        bit = 16\n",
    "    else: \n",
    "        bit = 8\n",
    "\n",
    "    modified_pixel_data = []\n",
    "    for pixel in pixel_data:\n",
    "        intensity = pixel\n",
    "        if bit == 16: \n",
    "            if intensity <= 33500:\n",
    "                intensity = 0\n",
    "            elif intensity >= 34500: \n",
    "                intensity = 65535\n",
    "        if bit == 8: \n",
    "            print(\"8-bit blir brukt\")\n",
    "            if intensity <= 129:\n",
    "                intensity = 0\n",
    "            elif intensity >= 135: \n",
    "                intensity = 255 \n",
    "        modified_pixel_data.append(intensity)\n",
    "    \n",
    "    image.putdata(modified_pixel_data)\n",
    "    image.save(img_path)"
   ]
  },
  {
   "cell_type": "code",
   "execution_count": 56,
   "metadata": {},
   "outputs": [],
   "source": [
    "train_val_test_img_path = [\"/home/heris/data/RAW/YOLO_dataset/train/images/\",\"/home/heris/data/RAW/YOLO_dataset/validation/images/\",\"/home/heris/data/RAW/YOLO_dataset/test/images/\"]\n",
    "for path in train_val_test_img_path:\n",
    "    for root, dirs, files in os.walk(path):\n",
    "        if len(dirs) == 0: \n",
    "            for file in files: \n",
    "                preprosess_color_of_image(f'{root}{file}')"
   ]
  },
  {
   "cell_type": "code",
   "execution_count": null,
   "metadata": {},
   "outputs": [],
   "source": []
  }
 ],
 "metadata": {
  "kernelspec": {
   "display_name": "master",
   "language": "python",
   "name": "python3"
  },
  "language_info": {
   "codemirror_mode": {
    "name": "ipython",
    "version": 3
   },
   "file_extension": ".py",
   "mimetype": "text/x-python",
   "name": "python",
   "nbconvert_exporter": "python",
   "pygments_lexer": "ipython3",
   "version": "3.10.13"
  }
 },
 "nbformat": 4,
 "nbformat_minor": 2
}
