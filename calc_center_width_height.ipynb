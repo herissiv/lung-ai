{
 "cells": [
  {
   "cell_type": "code",
   "execution_count": 26,
   "metadata": {},
   "outputs": [],
   "source": [
    "def calculateDims(coordinates:list): \n",
    "    #Remember that the coordinates are written like x1;y1;x2;y2;x3;y3\n",
    "    print(coordinates) #Remove after \n",
    "    if type(coordinates)!=list:\n",
    "        print(type(coordinates))\n",
    "        raise ValueError\n",
    "    centerWidthHeights = [] #The format will be [[center0,width0,height0],[center1,width1,height1],.........]\n",
    "    cenwidhgt = [] #These are the [centerX,widthX,heightX] described above\n",
    "                   #centerX will be written as xX,yX => [centerX,widthX,heightX]  = [xX,yX,widthX,heightX]\n",
    "    xs = []\n",
    "    ys = []\n",
    "    \n",
    "    coords = coordinates[0]\n",
    "    coordslist = coords.split(\";\") #Remember that every value indexed at a even num is xs, and odd num is ys\n",
    "    for i in range(len(coordslist)):\n",
    "        if i%2==0: \n",
    "            xs.append(int(coordslist[i]))\n",
    "        else:\n",
    "            ys.append(int(coordslist[i]))\n",
    "    xsMax = max(xs)\n",
    "    xsMin = min(xs)\n",
    "    ysMax = max(ys)\n",
    "    ysMin = min(ys)     \n",
    "    xsCen = (xsMin+xsMax)/2\n",
    "    ysCen = (ysMin+ysMax)/2\n",
    "    height = abs(ysMax-ysMin) #should be positive, but just to be sure\n",
    "    width = abs(xsMax-xsMin)\n",
    "    cenwidhgt = [xsCen,ysCen,width,height]\n",
    "    centerWidthHeights.append(cenwidhgt)\n",
    "    xs = []\n",
    "    ys = []\n",
    "    print(centerWidthHeights) #Remove aferwars\n",
    "    return centerWidthHeights"
   ]
  },
  {
   "cell_type": "code",
   "execution_count": 27,
   "metadata": {},
   "outputs": [],
   "source": [
    "#Read in the textfile with wher the nodule imformation is pou up like this: \n",
    "    # NoduleID: SOPInstanceUID: png path: coordinates: \n",
    "    # Ex:\n",
    "    # Nodule 01,1.3.2.4.6.3.12413......,/home/heris/............../image1.png,x1;y1;x2;y2;x3;y3\n",
    "\n",
    "def boundingBoxDim(input_txt_path:str, output_txt_path:str):\n",
    "    try:\n",
    "        NoduleIDs = []\n",
    "        SOPInstanceUIDs = []\n",
    "        img_paths = []\n",
    "        CoordinatesTot = []\n",
    "        with open(input_txt_path, \"r\") as txt:\n",
    "            lines = txt.readlines()\n",
    "            for line in lines:\n",
    "                #Each line is in a csv format so can split on \",\"\n",
    "                line_split = line.split(\",\")\n",
    "                noduleID = line_split[0]\n",
    "                NoduleIDs.append(noduleID)   \n",
    "                sopInstanceUID = line_split[1]\n",
    "                SOPInstanceUIDs.append(sopInstanceUID)\n",
    "                img_path = line_split[2]\n",
    "                img_paths.append(img_path)\n",
    "                coordinates = line_split[3]\n",
    "                CoordinatesTot.append(coordinates) \n",
    "        centersWidthsHeigths = calculateDims(CoordinatesTot)\n",
    "    except FileNotFoundError:\n",
    "        print(f\"File {input_txt_path} not found.\")\n",
    "    except SyntaxError:\n",
    "        print(f\"Wrong imput syntax!\")\n",
    "    \n",
    "    #JASON or TXT, read up on YOLO v8\n",
    "    try:\n",
    "        with open(output_txt_path, 'w') as file:\n",
    "            # Write the content to the file\n",
    "            \n",
    "            #Lesion id = 1\n",
    "            for dims in centersWidthsHeigths:\n",
    "                file.write(\"1 \") #Lesion ID = 1\n",
    "                for dim in dims: \n",
    "                    if dim != dims[-1]:\n",
    "                        file.write(f\"{dim} \")\n",
    "                    else: \n",
    "                        file.write(f\"{dim}\\n\")\n",
    "            \n",
    "        print(f\"Text has been written to {output_txt_path}.\")\n",
    "    except Exception as e:\n",
    "        print(f\"An error occurred: {e}\")\n",
    "\n",
    "    return NoduleIDs, SOPInstanceUIDs, img_paths #return another element, something with coordinateinformation "
   ]
  },
  {
   "cell_type": "code",
   "execution_count": 28,
   "metadata": {},
   "outputs": [
    {
     "name": "stdout",
     "output_type": "stream",
     "text": [
      "['312;355;311;356;310;357;309;357;308;358;308;359;308;360;307;360;306;361;306;362;305;363;304;364;303;365;303;366;302;367;302;368;302;369;301;370;301;371;300;371;299;372;299;373;299;374;299;375;299;376;300;377;301;378;302;379;303;379;304;379;305;379;306;379;307;378;308;377;308;376;309;375;310;375;311;375;312;375;313;375;314;375;315;375;316;375;317;375;318;375;319;375;320;374;321;373;322;372;322;371;322;370;323;369;324;368;325;367;326;366;327;365;328;364;328;363;327;362;327;361;326;360;325;359;324;359;323;358;322;358;321;357;320;358;319;358;318;358;318;357;317;356;316;355;315;355;314;355;313;355;312;355\\n', '318;374;319;373;320;372;321;371;322;372;323;371;324;371;325;370;325;369;325;368;326;367;326;366;326;365;325;364;324;364;323;364;322;364;321;363;320;362;319;362;318;361;317;362;316;362;315;361;315;360;314;359;313;359;312;360;312;361;312;362;311;363;310;363;309;364;308;365;308;366;307;367;307;368;307;369;308;370;309;370;310;369;311;369;312;370;313;371;314;371;315;370;316;371;316;372;316;373;317;374;318;374\\n']\n",
      "[[313.5, 367.0, 29, 24]]\n",
      "Text has been written to /home/heris/data/RAW/test1.txt.\n"
     ]
    },
    {
     "data": {
      "text/plain": [
       "(['Nodule 001', 'MI014_12127'],\n",
       " ['1.3.6.1.4.1.14519.5.2.1.6279.6001.110383487652933113465768208719',\n",
       "  '1.3.6.1.4.1.14519.5.2.1.6279.6001.110383487652933113465768208719'],\n",
       " ['/home/heris/data/RAW/LIDC-IDRI-dicom/image_1.3.6.1.4.1.14519.5.2.1.6279.6001.110383487652933113465768208719.png',\n",
       "  '/home/heris/data/RAW/LIDC-IDRI-dicom/image_1.3.6.1.4.1.14519.5.2.1.6279.6001.110383487652933113465768208719.png'])"
      ]
     },
     "execution_count": 28,
     "metadata": {},
     "output_type": "execute_result"
    }
   ],
   "source": [
    "boundingBoxDim(\"/home/heris/data/RAW/LIDC-IDRI-dicom/LIDC-IDRI-0001/image_1.3.6.1.4.1.14519.5.2.1.6279.6001.110383487652933113465768208719.txt\",\"/home/heris/data/RAW/test1.txt\")"
   ]
  },
  {
   "cell_type": "code",
   "execution_count": 29,
   "metadata": {},
   "outputs": [
    {
     "name": "stdout",
     "output_type": "stream",
     "text": [
      "['310;351;309;352;309;353;309;354;308;354;307;354;306;355;305;355;304;354;303;355;303;356;303;357;303;358;303;359;303;360;302;361;301;362;301;363;301;364;301;365;301;366;301;367;301;368;302;369;303;369;304;370;304;371;303;372;302;372;301;373;301;374;302;375;303;375;304;375;305;376;306;377;307;377;307;378;307;379;308;380;309;381;310;382;311;381;312;380;313;380;314;379;315;378;316;378;317;378;318;378;319;378;320;379;321;379;322;379;323;378;323;377;324;376;325;376;326;376;327;377;327;378;328;379;329;379;330;379;331;379;332;378;332;377;332;376;332;375;332;374;332;373;333;372;334;371;334;370;334;369;334;368;333;367;333;366;332;365;331;364;331;363;330;362;330;361;330;360;330;359;330;358;330;357;330;356;330;355;330;354;330;353;329;352;328;353;327;354;326;354;325;354;324;354;323;354;322;354;321;354;320;354;319;354;319;353;319;352;318;351;317;352;317;353;317;354;316;354;315;354;314;355;313;355;313;354;313;353;313;352;312;351;311;351;310;351\\n', '329;379;330;378;331;378;332;377;333;376;333;375;333;374;333;373;333;372;333;371;333;370;334;369;333;368;333;367;333;366;333;365;333;364;332;363;332;362;331;361;330;360;330;359;329;358;329;357;329;356;329;355;328;356;327;356;326;356;325;356;324;356;323;356;322;356;321;355;320;355;319;355;318;355;317;355;316;356;315;356;314;355;313;355;312;354;311;355;310;355;309;355;308;356;307;357;306;358;305;359;305;360;304;361;303;362;303;363;303;364;303;365;304;366;304;367;304;368;305;369;304;370;304;371;304;372;305;373;306;374;306;375;307;376;308;377;309;377;310;378;311;379;312;379;313;379;314;378;315;378;316;378;317;378;318;379;319;379;320;379;321;379;322;378;323;377;324;377;325;376;326;377;327;378;328;379;329;379\\n', '321;381;322;380;323;379;324;379;325;379;326;379;327;378;328;378;329;378;330;377;331;377;332;376;333;375;333;374;334;373;334;372;334;371;334;370;334;369;335;368;334;367;334;366;333;365;332;364;332;363;331;362;331;361;331;360;330;359;329;359;328;358;327;357;326;356;325;356;324;356;323;355;322;355;321;354;320;354;319;354;318;354;317;354;316;354;315;354;314;354;313;355;312;355;311;355;310;355;309;355;308;356;307;356;306;357;305;357;304;358;303;359;303;360;302;361;302;362;302;363;302;364;302;365;303;366;303;367;303;368;304;369;305;370;304;371;303;372;303;373;304;374;305;374;306;375;306;376;307;377;308;378;309;378;310;378;311;378;312;379;313;380;314;380;315;380;316;380;317;381;318;381;319;381;320;381;321;381\\n', '316;356;315;355;314;355;313;355;312;354;311;354;310;354;309;354;308;354;307;355;306;356;305;357;305;358;304;359;304;360;303;361;303;362;302;363;302;364;302;365;303;366;303;367;303;368;303;369;303;370;304;371;304;372;304;373;305;374;305;375;306;376;307;377;308;378;309;379;310;380;311;380;312;380;313;380;314;380;315;379;316;379;317;380;318;380;319;380;320;381;321;381;322;381;323;380;324;379;325;378;326;378;327;377;327;378;328;379;328;380;329;379;330;379;331;378;332;378;332;377;333;376;334;375;334;374;334;373;334;372;334;371;334;370;334;369;335;368;335;367;335;366;335;365;334;364;334;363;333;362;333;361;332;360;332;359;331;358;331;357;330;356;330;355;329;355;328;355;327;354;326;354;325;355;324;355;323;355;322;355;321;354;320;354;319;354;318;355;317;355;316;356\\n']\n",
      "[[317.5, 366.5, 33, 31]]\n",
      "Text has been written to /home/heris/data/RAW/test2.txt.\n"
     ]
    },
    {
     "data": {
      "text/plain": [
       "(['Nodule 001', 'IL057_127364', 'MI014_12127', '0'],\n",
       " ['1.3.6.1.4.1.14519.5.2.1.6279.6001.202709423777326615340853838834',\n",
       "  '1.3.6.1.4.1.14519.5.2.1.6279.6001.202709423777326615340853838834',\n",
       "  '1.3.6.1.4.1.14519.5.2.1.6279.6001.202709423777326615340853838834',\n",
       "  '1.3.6.1.4.1.14519.5.2.1.6279.6001.202709423777326615340853838834'],\n",
       " ['/home/heris/data/RAW/LIDC-IDRI-dicom/image_1.3.6.1.4.1.14519.5.2.1.6279.6001.202709423777326615340853838834.png',\n",
       "  '/home/heris/data/RAW/LIDC-IDRI-dicom/image_1.3.6.1.4.1.14519.5.2.1.6279.6001.202709423777326615340853838834.png',\n",
       "  '/home/heris/data/RAW/LIDC-IDRI-dicom/image_1.3.6.1.4.1.14519.5.2.1.6279.6001.202709423777326615340853838834.png',\n",
       "  '/home/heris/data/RAW/LIDC-IDRI-dicom/image_1.3.6.1.4.1.14519.5.2.1.6279.6001.202709423777326615340853838834.png'])"
      ]
     },
     "execution_count": 29,
     "metadata": {},
     "output_type": "execute_result"
    }
   ],
   "source": [
    "boundingBoxDim(\"/home/heris/data/RAW/LIDC-IDRI-dicom/LIDC-IDRI-0001/image_1.3.6.1.4.1.14519.5.2.1.6279.6001.202709423777326615340853838834.txt\",\"/home/heris/data/RAW/test2.txt\")"
   ]
  },
  {
   "cell_type": "code",
   "execution_count": null,
   "metadata": {},
   "outputs": [],
   "source": []
  }
 ],
 "metadata": {
  "kernelspec": {
   "display_name": "master",
   "language": "python",
   "name": "python3"
  },
  "language_info": {
   "codemirror_mode": {
    "name": "ipython",
    "version": 3
   },
   "file_extension": ".py",
   "mimetype": "text/x-python",
   "name": "python",
   "nbconvert_exporter": "python",
   "pygments_lexer": "ipython3",
   "version": "3.10.13"
  }
 },
 "nbformat": 4,
 "nbformat_minor": 2
}
