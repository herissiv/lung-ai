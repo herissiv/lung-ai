{
 "cells": [
  {
   "cell_type": "code",
   "execution_count": 23,
   "metadata": {},
   "outputs": [],
   "source": [
    "def calculateDims(coordinates:list): \n",
    "    #Remember that the coordinates are written like x1;y1;x2;y2;x3;y3\n",
    "    if type(coordinates!=list):\n",
    "        raise ValueError\n",
    "    centerWidthHeights = [] #The format will be [[center0,width0,height0],[center1,width1,height1],.........]\n",
    "    cenwidhgt = [] #These are the [centerX,widthX,heightX] described above\n",
    "                   #centerX will be written as xX,yX => [centerX,widthX,heightX]  = [xX,yX,widthX,heightX]\n",
    "    xs = []\n",
    "    ys = []\n",
    "    \n",
    "    coords = coordinates[0]\n",
    "    coordslist = coords.split(\";\") #Remember that every value indexed at a even num is xs, and odd num is ys\n",
    "    for i in range(len(coordslist)):\n",
    "        if i%2==0: \n",
    "            xs.append(coordslist[i])\n",
    "        else:\n",
    "            ys.append(coordslist[i])\n",
    "    xsMax = max(xs)\n",
    "    xsMin = min(xs)\n",
    "    ysMax = max(ys)\n",
    "    ysMin = min(ys)     \n",
    "    xsCen = (xsMin+xsMax)/2\n",
    "    ysCen = (ysMin+ysMax)/2\n",
    "    height = abs(ysMax-ysMin) #should be positive, but just to be sure\n",
    "    width = abs(xsMax-xsMin)\n",
    "    cenwidhgt = [xsCen,ysCen,width,height]\n",
    "    centerWidthHeights.append(cenwidhgt)\n",
    "    xs = []\n",
    "    ys = []\n",
    "\n",
    "    return centerWidthHeights"
   ]
  },
  {
   "cell_type": "code",
   "execution_count": 24,
   "metadata": {},
   "outputs": [],
   "source": [
    "#Read in the textfile with wher the nodule imformation is pou up like this: \n",
    "    # NoduleID: SOPInstanceUID: png path: coordinates: \n",
    "    # Ex:\n",
    "    # Nodule 01,1.3.2.4.6.3.12413......,/home/heris/............../image1.png,x1;y1;x2;y2;x3;y3\n",
    "\n",
    "def boundingBoxDim(input_txt_path:str, output_txt_path):\n",
    "    try:\n",
    "        NoduleIDs = []\n",
    "        SOPInstanceUIDs = []\n",
    "        img_paths = []\n",
    "        CoordinatesTot = []\n",
    "        with open(input_txt_path, \"r\") as txt:\n",
    "            lines = txt.readlines()\n",
    "            for line in lines:\n",
    "                #Each line is in a csv format so can split on \",\"\n",
    "                line_split = line.split(\",\")\n",
    "                noduleID = line_split[0]\n",
    "                NoduleIDs.append(noduleID)   \n",
    "                sopInstanceUID = line_split[1]\n",
    "                SOPInstanceUIDs.append(sopInstanceUID)\n",
    "                img_path = line_split[2]\n",
    "                img_paths.append(img_path)\n",
    "                coordinates = line_split[3]\n",
    "                CoordinatesTot.append(coordinates) \n",
    "        centersWidthsHeigths = calculateDims(CoordinatesTot)\n",
    "    except FileNotFoundError:\n",
    "        print(f\"File {input_txt_path} not found.\")\n",
    "    except SyntaxError:\n",
    "        print(f\"Wrong imput syntax!\")\n",
    "    \n",
    "    #JASON or TXT, read up on YOLO v8\n",
    "    try:\n",
    "        with open(output_txt_path, 'w') as file:\n",
    "            # Write the content to the file\n",
    "            \n",
    "            file.write(\"CHANGE THIS\")\n",
    "        print(f\"Text has been written to {output_txt_path}.\")\n",
    "    except Exception as e:\n",
    "        print(f\"An error occurred: {e}\")\n",
    "\n",
    "    return NoduleIDs, SOPInstanceUIDs, img_paths #return another element, something with coordinateinformation "
   ]
  },
  {
   "cell_type": "code",
   "execution_count": 16,
   "metadata": {},
   "outputs": [
    {
     "name": "stdout",
     "output_type": "stream",
     "text": [
      "['Nodule 001', 'MI014_12127']\n"
     ]
    }
   ],
   "source": [
    "boundingBoxDim(\"/home/heris/data/RAW/LIDC-IDRI-dicom/LIDC-IDRI-0001/image_1.3.6.1.4.1.14519.5.2.1.6279.6001.110383487652933113465768208719.txt\")"
   ]
  },
  {
   "cell_type": "code",
   "execution_count": null,
   "metadata": {},
   "outputs": [],
   "source": []
  }
 ],
 "metadata": {
  "kernelspec": {
   "display_name": "master",
   "language": "python",
   "name": "python3"
  },
  "language_info": {
   "codemirror_mode": {
    "name": "ipython",
    "version": 3
   },
   "file_extension": ".py",
   "mimetype": "text/x-python",
   "name": "python",
   "nbconvert_exporter": "python",
   "pygments_lexer": "ipython3",
   "version": "3.10.13"
  }
 },
 "nbformat": 4,
 "nbformat_minor": 2
}
