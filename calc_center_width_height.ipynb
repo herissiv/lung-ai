{
 "cells": [
  {
   "cell_type": "code",
   "execution_count": 19,
   "metadata": {},
   "outputs": [],
   "source": [
    "def calculateDims(coordinates:list): \n",
    "    #Remember that the coordinates are written like x1;y1;x2;y2;x3;y3\n",
    "    if type(coordinates)!=list:\n",
    "        print(type(coordinates))\n",
    "        raise ValueError\n",
    "    centerWidthHeights = [] #The format will be [[center0,width0,height0],[center1,width1,height1],.........]\n",
    "    \n",
    "    \n",
    "    for coords in coordinates:\n",
    "        xs = []\n",
    "        ys = []\n",
    "        cenwidhgt = [] #These are the [centerX,widthX,heightX] described above\n",
    "                       #centerX will be written as xX,yX => [centerX,widthX,heightX]  = [xX,yX,widthX,heightX]\n",
    "\n",
    "        coordslist = coords.split(\";\") #Remember that every value indexed at a even num is xs, and odd num is ys\n",
    "        for i in range(len(coordslist)):\n",
    "            if i%2==0: \n",
    "                xs.append(int(coordslist[i]))\n",
    "            else:\n",
    "                ys.append(int(coordslist[i]))\n",
    "        xsMax = max(xs)\n",
    "        xsMin = min(xs)\n",
    "        ysMax = max(ys)\n",
    "        ysMin = min(ys)     \n",
    "        xsCen = (xsMin+xsMax)/2\n",
    "        ysCen = (ysMin+ysMax)/2\n",
    "        height = abs(ysMax-ysMin) #should be positive, but just to be sure\n",
    "        width = abs(xsMax-xsMin)\n",
    "        cenwidhgt = [xsCen,ysCen,width,height]\n",
    "        centerWidthHeights.append(cenwidhgt)\n",
    "    \n",
    "    return centerWidthHeights"
   ]
  },
  {
   "cell_type": "code",
   "execution_count": 20,
   "metadata": {},
   "outputs": [],
   "source": [
    "#Read in the textfile with wher the nodule imformation is pou up like this: \n",
    "    # NoduleID: SOPInstanceUID: png path: coordinates: \n",
    "    # Ex:\n",
    "    # Nodule 01,1.3.2.4.6.3.12413......,/home/heris/............../image1.png,x1;y1;x2;y2;x3;y3\n",
    "\n",
    "def boundingBoxDim(input_txt_path:str, output_txt_path:str):\n",
    "    try:\n",
    "        NoduleIDs = []\n",
    "        CoordinatesTot = []\n",
    "        with open(input_txt_path, \"r\") as txt:\n",
    "            lines = txt.readlines()\n",
    "            for line in lines:\n",
    "                #Each line is in a csv format so can split on \",\"\n",
    "                line_split = line.split(\",\")\n",
    "                noduleID = line_split[0]\n",
    "                NoduleIDs.append(noduleID)   \n",
    "                SOPInstanceUID = line_split[1]\n",
    "                img_path = line_split[2]\n",
    "                coordinates = line_split[3]\n",
    "                CoordinatesTot.append(coordinates) \n",
    "        centersWidthsHeigths = calculateDims(CoordinatesTot)\n",
    "    except FileNotFoundError:\n",
    "        print(f\"File {input_txt_path} not found.\")\n",
    "    except SyntaxError:\n",
    "        print(f\"Wrong imput syntax!\")\n",
    "    \n",
    "    #JASON or TXT, read up on YOLO v8\n",
    "    try:\n",
    "        with open(output_txt_path, 'w') as file:\n",
    "            # Write the content to the file\n",
    "            \n",
    "            #Lesion id = 1\n",
    "            for dims in centersWidthsHeigths:\n",
    "                file.write(\"1 \") #Lesion ID = 1\n",
    "                for dim in dims: \n",
    "                    if dim != dims[-1]:\n",
    "                        file.write(f\"{dim} \")\n",
    "                    else: \n",
    "                        file.write(f\"{dim}\\n\")\n",
    "            \n",
    "        print(f\"Text has been written to {output_txt_path}.\")\n",
    "    except Exception as e:\n",
    "        print(f\"An error occurred: {e}\")\n",
    "\n",
    "    return SOPInstanceUID, img_path, NoduleIDs, centersWidthsHeigths "
   ]
  },
  {
   "cell_type": "code",
   "execution_count": 21,
   "metadata": {},
   "outputs": [],
   "source": [
    "#MMIV\n",
    "# boundingBoxDim(\"/home/heris/data/RAW/LIDC-IDRI-dicom/LIDC-IDRI-0001/image_1.3.6.1.4.1.14519.5.2.1.6279.6001.110383487652933113465768208719.txt\",\"/home/heris/data/RAW/test1.txt\")"
   ]
  },
  {
   "cell_type": "code",
   "execution_count": 22,
   "metadata": {},
   "outputs": [],
   "source": [
    "#MMIV\n",
    "# boundingBoxDim(\"/home/heris/data/RAW/LIDC-IDRI-dicom/LIDC-IDRI-0001/image_1.3.6.1.4.1.14519.5.2.1.6279.6001.202709423777326615340853838834.txt\",\"/home/heris/data/RAW/test2.txt\")"
   ]
  },
  {
   "cell_type": "code",
   "execution_count": 23,
   "metadata": {},
   "outputs": [
    {
     "name": "stdout",
     "output_type": "stream",
     "text": [
      "Text has been written to C:/Users/Heris/lung-ai/testpc1.txt.\n"
     ]
    },
    {
     "data": {
      "text/plain": [
       "('1.3.6.1.4.1.14519.5.2.1.6279.6001.202709423777326615340853838834',\n",
       " '/home/heris/data/RAW/LIDC-IDRI-dicom/image_1.3.6.1.4.1.14519.5.2.1.6279.6001.202709423777326615340853838834.png',\n",
       " ['Nodule 001', 'IL057_127364', 'MI014_12127', '0'],\n",
       " [[317.5, 366.5, 33, 31],\n",
       "  [318.5, 366.5, 31, 25],\n",
       "  [318.5, 367.5, 33, 27],\n",
       "  [318.5, 367.5, 33, 27]])"
      ]
     },
     "execution_count": 23,
     "metadata": {},
     "output_type": "execute_result"
    }
   ],
   "source": [
    "#Personal computer path\n",
    "boundingBoxDim(\"C:/Users/Heris/lung-ai/image_1.3.6.1.4.1.14519.5.2.1.6279.6001.202709423777326615340853838834.txt\", \"C:/Users/Heris/lung-ai/testpc1.txt\")\n"
   ]
  }
 ],
 "metadata": {
  "kernelspec": {
   "display_name": "master",
   "language": "python",
   "name": "python3"
  },
  "language_info": {
   "codemirror_mode": {
    "name": "ipython",
    "version": 3
   },
   "file_extension": ".py",
   "mimetype": "text/x-python",
   "name": "python",
   "nbconvert_exporter": "python",
   "pygments_lexer": "ipython3",
   "version": "3.10.13"
  }
 },
 "nbformat": 4,
 "nbformat_minor": 2
}
