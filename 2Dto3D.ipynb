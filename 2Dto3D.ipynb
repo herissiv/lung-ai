{
 "cells": [
  {
   "cell_type": "code",
   "execution_count": 2,
   "metadata": {},
   "outputs": [],
   "source": [
    "import pydicom "
   ]
  },
  {
   "cell_type": "code",
   "execution_count": 8,
   "metadata": {},
   "outputs": [
    {
     "name": "stdout",
     "output_type": "stream",
     "text": [
      "Patient ID: LIDC-IDRI-0001\n",
      "Modality: CT\n",
      "SOP Instance UID: 1.3.6.1.4.1.14519.5.2.1.6279.6001.265752406785564034990206112632\n",
      "Study Instance UID: 1.3.6.1.4.1.14519.5.2.1.6279.6001.298806137288633453246975630178\n",
      "Series Instance UID: 1.3.6.1.4.1.14519.5.2.1.6279.6001.179049373636438705059720603192\n",
      "SOP Class UID: 1.2.840.10008.5.1.4.1.1.2\n",
      "Image Type: ['ORIGINAL', 'PRIMARY', 'AXIAL']\n",
      "Image z-position: -185.000000\n",
      "Pixel Array Shape: (512, 512)\n"
     ]
    }
   ],
   "source": [
    "# This block is to test how to access a dicom file\n",
    "# Load a DICOM file\n",
    "dicom_file_path = '/home/heris/data/LIDC-IDRI/LIDC-IDRI-0001/01-01-2000-NA-NA-30178/3000566.000000-NA-03192/1-071.dcm'\n",
    "ds = pydicom.dcmread(dicom_file_path)\n",
    "\n",
    "# Access DICOM metadata\n",
    "print(f\"Patient ID: {ds.PatientID}\")\n",
    "print(f\"Modality: {ds.Modality}\")\n",
    "print(f\"SOP Instance UID: {ds.SOPInstanceUID}\")\n",
    "print(f\"Study Instance UID: {ds.StudyInstanceUID}\")\n",
    "print(f\"Series Instance UID: {ds.SeriesInstanceUID}\")\n",
    "print(f\"SOP Class UID: {ds.SOPClassUID}\")\n",
    "print(f\"Image Type: {ds.ImageType}\")\n",
    "print(f\"Image z-position: {ds.ImagePositionPatient[2]}\")\n",
    "\n",
    "\n",
    "# Access pixel data (if present)\n",
    "if 'PixelData' in ds:\n",
    "    pixel_array = ds.pixel_array\n",
    "    # Now you can work with the pixel data as a NumPy array\n",
    "    print(f\"Pixel Array Shape: {pixel_array.shape}\")"
   ]
  },
  {
   "cell_type": "code",
   "execution_count": 1,
   "metadata": {},
   "outputs": [],
   "source": [
    "import xml.etree.ElementTree as ET\n",
    "\n"
   ]
  },
  {
   "cell_type": "code",
   "execution_count": 19,
   "metadata": {},
   "outputs": [
    {
     "name": "stdout",
     "output_type": "stream",
     "text": [
      "Nodule ID: Nodule 001, SOP Instance UID: 1.3.6.1.4.1.14519.5.2.1.6279.6001.110383487652933113465768208719, Image z-position: -125.000000 \n",
      "Nodule ID: Nodule 001, SOP Instance UID: 1.3.6.1.4.1.14519.5.2.1.6279.6001.499837844441581448374672853475, Image z-position: -122.500000 \n",
      "Nodule ID: Nodule 001, SOP Instance UID: 1.3.6.1.4.1.14519.5.2.1.6279.6001.299410838455281419536742634793, Image z-position: -120.000000 \n",
      "Nodule ID: Nodule 001, SOP Instance UID: 1.3.6.1.4.1.14519.5.2.1.6279.6001.824843590991776411530080688091, Image z-position: -117.500000 \n",
      "Nodule ID: Nodule 001, SOP Instance UID: 1.3.6.1.4.1.14519.5.2.1.6279.6001.297813206491522913194774892711, Image z-position: -115.000000 \n",
      "Nodule ID: Nodule 001, SOP Instance UID: 1.3.6.1.4.1.14519.5.2.1.6279.6001.261151233960269013402330853013, Image z-position: -112.500000 \n",
      "Nodule ID: Nodule 001, SOP Instance UID: 1.3.6.1.4.1.14519.5.2.1.6279.6001.202709423777326615340853838834, Image z-position: -110.000000 \n",
      "Nodule ID: Nodule 001, SOP Instance UID: 1.3.6.1.4.1.14519.5.2.1.6279.6001.281416679065036634264586513142, Image z-position: -107.500000 \n",
      "Nodule ID: Nodule 002, SOP Instance UID: 1.3.6.1.4.1.14519.5.2.1.6279.6001.313544823773855097029348077255, Image z-position: -150.000000 \n",
      "Nodule ID: Nodule 003, SOP Instance UID: 1.3.6.1.4.1.14519.5.2.1.6279.6001.315606855383999143703852453142, Image z-position: -175.000000 \n",
      "Nodule ID: Nodule 004, SOP Instance UID: 1.3.6.1.4.1.14519.5.2.1.6279.6001.315606855383999143703852453142, Image z-position: -175.000000 \n",
      "Non-Nodule ID: ERROR LOADING NAME, SOP Instance UID: 1.3.6.1.4.1.14519.5.2.1.6279.6001.265752406785564034990206112632, Image z-position: -185.000000 \n",
      "Non-Nodule ID: ERROR LOADING NAME, SOP Instance UID: 1.3.6.1.4.1.14519.5.2.1.6279.6001.588464900616851045070333788793, Image z-position: -242.500000 \n",
      "Non-Nodule ID: ERROR LOADING NAME, SOP Instance UID: 1.3.6.1.4.1.14519.5.2.1.6279.6001.315606855383999143703852453142, Image z-position: -175.000000 \n",
      "Non-Nodule ID: ERROR LOADING NAME, SOP Instance UID: 1.3.6.1.4.1.14519.5.2.1.6279.6001.980992723094835143194725792701, Image z-position: -165.000000 \n",
      "Nodule ID: IL057_127364, SOP Instance UID: 1.3.6.1.4.1.14519.5.2.1.6279.6001.281416679065036634264586513142, Image z-position: -107.5\n",
      "Nodule ID: IL057_127364, SOP Instance UID: 1.3.6.1.4.1.14519.5.2.1.6279.6001.202709423777326615340853838834, Image z-position: -110.0\n",
      "Nodule ID: IL057_127364, SOP Instance UID: 1.3.6.1.4.1.14519.5.2.1.6279.6001.261151233960269013402330853013, Image z-position: -112.5\n",
      "Nodule ID: IL057_127364, SOP Instance UID: 1.3.6.1.4.1.14519.5.2.1.6279.6001.297813206491522913194774892711, Image z-position: -115.0\n",
      "Nodule ID: IL057_127364, SOP Instance UID: 1.3.6.1.4.1.14519.5.2.1.6279.6001.824843590991776411530080688091, Image z-position: -117.5\n",
      "Nodule ID: IL057_127364, SOP Instance UID: 1.3.6.1.4.1.14519.5.2.1.6279.6001.299410838455281419536742634793, Image z-position: -120.0\n",
      "Nodule ID: IL057_127364, SOP Instance UID: 1.3.6.1.4.1.14519.5.2.1.6279.6001.499837844441581448374672853475, Image z-position: -122.5\n",
      "Non-Nodule ID: ERROR LOADING NAME, SOP Instance UID: 1.3.6.1.4.1.14519.5.2.1.6279.6001.195458112408977878368429993130, Image z-position: -195.0\n",
      "Nodule ID: MI014_12118, SOP Instance UID: 1.3.6.1.4.1.14519.5.2.1.6279.6001.315606855383999143703852453142, Image z-position: -175.0\n",
      "Nodule ID: MI014_12119, SOP Instance UID: 1.3.6.1.4.1.14519.5.2.1.6279.6001.315606855383999143703852453142, Image z-position: -175.0\n",
      "Nodule ID: MI014_12120, SOP Instance UID: 1.3.6.1.4.1.14519.5.2.1.6279.6001.313544823773855097029348077255, Image z-position: -150.0\n",
      "Nodule ID: MI014_12127, SOP Instance UID: 1.3.6.1.4.1.14519.5.2.1.6279.6001.281416679065036634264586513142, Image z-position: -107.5\n",
      "Nodule ID: MI014_12127, SOP Instance UID: 1.3.6.1.4.1.14519.5.2.1.6279.6001.202709423777326615340853838834, Image z-position: -110.0\n",
      "Nodule ID: MI014_12127, SOP Instance UID: 1.3.6.1.4.1.14519.5.2.1.6279.6001.261151233960269013402330853013, Image z-position: -112.5\n",
      "Nodule ID: MI014_12127, SOP Instance UID: 1.3.6.1.4.1.14519.5.2.1.6279.6001.297813206491522913194774892711, Image z-position: -115.0\n",
      "Nodule ID: MI014_12127, SOP Instance UID: 1.3.6.1.4.1.14519.5.2.1.6279.6001.824843590991776411530080688091, Image z-position: -117.5\n",
      "Nodule ID: MI014_12127, SOP Instance UID: 1.3.6.1.4.1.14519.5.2.1.6279.6001.299410838455281419536742634793, Image z-position: -120.0\n",
      "Nodule ID: MI014_12127, SOP Instance UID: 1.3.6.1.4.1.14519.5.2.1.6279.6001.499837844441581448374672853475, Image z-position: -122.5\n",
      "Nodule ID: MI014_12127, SOP Instance UID: 1.3.6.1.4.1.14519.5.2.1.6279.6001.110383487652933113465768208719, Image z-position: -125.0\n",
      "Non-Nodule ID: ERROR LOADING NAME, SOP Instance UID: 1.3.6.1.4.1.14519.5.2.1.6279.6001.980992723094835143194725792701, Image z-position: -165.0\n",
      "Non-Nodule ID: ERROR LOADING NAME, SOP Instance UID: 1.3.6.1.4.1.14519.5.2.1.6279.6001.315606855383999143703852453142, Image z-position: -175.0\n",
      "Non-Nodule ID: ERROR LOADING NAME, SOP Instance UID: 1.3.6.1.4.1.14519.5.2.1.6279.6001.193784360214506863621989507827, Image z-position: -187.5\n",
      "Non-Nodule ID: ERROR LOADING NAME, SOP Instance UID: 1.3.6.1.4.1.14519.5.2.1.6279.6001.588464900616851045070333788793, Image z-position: -242.5\n",
      "Non-Nodule ID: ERROR LOADING NAME, SOP Instance UID: 1.3.6.1.4.1.14519.5.2.1.6279.6001.588464900616851045070333788793, Image z-position: -242.5\n",
      "Non-Nodule ID: ERROR LOADING NAME, SOP Instance UID: 1.3.6.1.4.1.14519.5.2.1.6279.6001.588464900616851045070333788793, Image z-position: -242.5\n",
      "Non-Nodule ID: ERROR LOADING NAME, SOP Instance UID: 1.3.6.1.4.1.14519.5.2.1.6279.6001.265752406785564034990206112632, Image z-position: -185.0\n",
      "Non-Nodule ID: ERROR LOADING NAME, SOP Instance UID: 1.3.6.1.4.1.14519.5.2.1.6279.6001.195458112408977878368429993130, Image z-position: -195.0\n",
      "Nodule ID: 0, SOP Instance UID: 1.3.6.1.4.1.14519.5.2.1.6279.6001.257699431144088065312137256223, Image z-position: -105.0\n",
      "Nodule ID: 0, SOP Instance UID: 1.3.6.1.4.1.14519.5.2.1.6279.6001.281416679065036634264586513142, Image z-position: -107.5\n",
      "Nodule ID: 0, SOP Instance UID: 1.3.6.1.4.1.14519.5.2.1.6279.6001.202709423777326615340853838834, Image z-position: -110.0\n",
      "Nodule ID: 0, SOP Instance UID: 1.3.6.1.4.1.14519.5.2.1.6279.6001.261151233960269013402330853013, Image z-position: -112.5\n",
      "Nodule ID: 0, SOP Instance UID: 1.3.6.1.4.1.14519.5.2.1.6279.6001.297813206491522913194774892711, Image z-position: -115.0\n",
      "Nodule ID: 0, SOP Instance UID: 1.3.6.1.4.1.14519.5.2.1.6279.6001.824843590991776411530080688091, Image z-position: -117.5\n",
      "Nodule ID: 0, SOP Instance UID: 1.3.6.1.4.1.14519.5.2.1.6279.6001.299410838455281419536742634793, Image z-position: -120.0\n",
      "Nodule ID: 0, SOP Instance UID: 1.3.6.1.4.1.14519.5.2.1.6279.6001.499837844441581448374672853475, Image z-position: -122.5\n",
      "Nodule ID: 0, SOP Instance UID: 1.3.6.1.4.1.14519.5.2.1.6279.6001.110383487652933113465768208719, Image z-position: -125.0\n",
      "Nodule ID: 1, SOP Instance UID: 1.3.6.1.4.1.14519.5.2.1.6279.6001.315606855383999143703852453142, Image z-position: -175.0\n",
      "Nodule ID: 2, SOP Instance UID: 1.3.6.1.4.1.14519.5.2.1.6279.6001.315606855383999143703852453142, Image z-position: -175.0\n",
      "Nodule ID: 3, SOP Instance UID: 1.3.6.1.4.1.14519.5.2.1.6279.6001.313544823773855097029348077255, Image z-position: -150.0\n"
     ]
    }
   ],
   "source": [
    "tree = ET.parse(\"/home/heris/data/LIDC-IDRI/LIDC-IDRI-0001/01-01-2000-NA-NA-30178/3000566.000000-NA-03192/069.xml\")\n",
    "root = tree.getroot()\n",
    "\n",
    "zPos = \"\"\n",
    "sopIuid = \"\"\n",
    "noduleID = \"\"\n",
    "nonNoduleID = \"\"\n",
    "nonZpos = \"\"\n",
    "nonsopIuid = \"\"\n",
    "\n",
    "for readingsession in root: \n",
    "    for unblindedReadNodule in readingsession: \n",
    "        for roi in unblindedReadNodule: #here NoduleID, nonNoduleID and the nonNodule's SOP Instance UID and z-value also exists\n",
    "            roi_or_noduleID = str(roi.tag).split(\"}\")[-1]\n",
    "            if roi_or_noduleID == \"noduleID\":\n",
    "                noduleID = roi.text\n",
    "            elif roi_or_noduleID == \"nonNoduleID\": \n",
    "                nonNoduleID == roi.text\n",
    "            elif roi_or_noduleID == \"imageZposition\":\n",
    "                nonZpos = roi.text\n",
    "            elif roi_or_noduleID == \"imageSOP_UID\":\n",
    "                nonsopIuid = roi.text\n",
    "            if len(nonsopIuid) > 0 and len(nonZpos) > 0: #and len(nonNoduleID)>0 \n",
    "                print(f\"Non-Nodule ID: ERROR LOADING NAME, SOP Instance UID: {nonsopIuid}, Image z-position: {nonZpos}\")\n",
    "                nonNoduleID = \"\"\n",
    "                nonZpos = \"\"\n",
    "                nonsopIuid = \"\"\n",
    "            for sop_i_uid in roi: #can extract z-value \n",
    "                sop_or_z = str(sop_i_uid.tag).split(\"}\")[-1]\n",
    "                if sop_or_z == \"imageZposition\":\n",
    "                    zPos = sop_i_uid.text\n",
    "                elif sop_or_z == \"imageSOP_UID\":\n",
    "                    sopIuid = sop_i_uid.text\n",
    "            if len(noduleID)>0 and len(zPos)>0 and len(sopIuid)>0:\n",
    "                print(f\"Nodule ID: {noduleID}, SOP Instance UID: {sopIuid}, Image z-position: {zPos}\")\n",
    "            zPos = \"\"\n",
    "            sopIuid = \"\"\n",
    "        noduleID = \"\"\n",
    "        \n",
    "\n",
    "            "
   ]
  },
  {
   "cell_type": "code",
   "execution_count": null,
   "metadata": {},
   "outputs": [],
   "source": [
    "#Predict on a whole patient \n",
    "#XML file is redeemed useless for 2d -> 3D convertion, given that the XML file does NOT contain every image, it only contains images of lesions\n",
    "#Have to use the original the first, second, and last .dcm file to determine how many .pngs we should have, convert the remaining .dcm to .png and convert every .png to .dcm (then every dicom file will have the same header) \n",
    "#First and second .dcm file to determine the difference in z coordinates.\n",
    "\n"
   ]
  },
  {
   "cell_type": "code",
   "execution_count": 9,
   "metadata": {},
   "outputs": [],
   "source": [
    "import pydicom \n",
    "import os"
   ]
  },
  {
   "cell_type": "code",
   "execution_count": 45,
   "metadata": {},
   "outputs": [],
   "source": [
    "def convdcm2png(dicom_file_path:str, png_pluss_path:str):\n",
    "    #REMEMBER TO CONVERT THE dcm files THE SAME WAY AS THE SHELL SCRIPT \n",
    "    return 0\n"
   ]
  },
  {
   "cell_type": "code",
   "execution_count": 43,
   "metadata": {},
   "outputs": [],
   "source": [
    "def conv2Dto3D(dicomfolderpath: str, predPNGfolderpath: str): \n",
    "    #walk through the images and list them: \n",
    "    predSOPInstacneUIDs = []\n",
    "    for _, _, pngs in os.walk(predPNGfolderpath):\n",
    "        for png in pngs: \n",
    "            predSOPInstacneUIDs.append((str(png).split(\"_\")[-1]).split(\".png\")[0])\n",
    "    #walk through the dicom folder and look for the SOP Instance UID if the SOP Instance UID dont exists in the SOPInstanceUIDs list then run the same convertion for the dicom files as done in the shell script \n",
    "    for root,_, dcms in os.walk(dicomfolderpath):\n",
    "        for dicom in dcms: \n",
    "            dcmpath = f\"{root}{dicom}\"\n",
    "            if dcmpath[-1] == \"m\": #m from dcm \n",
    "                ds = pydicom.dcmread(dcmpath)\n",
    "                if ds.SOPInstanceUID in predSOPInstacneUIDs: \n",
    "                    #Here we know that we have the segmented png for that dicom file. \n",
    "                    print(\"YEEEEEEEHAWWWWWW\")\n",
    "                else: \n",
    "                    #This runs if we don't have a segmented png file for that particular dicom file/z-coordiante \n",
    "                    #Need to convert the dicomfile to png the same way we did in the shell script. (dcm2pnm +on +Wh 1 \"$dcmfile\" \"$newfilename\")\n",
    "                    convdcm2png(\"DUMMY1\", \"DUMMY2\")\n"
   ]
  },
  {
   "cell_type": "code",
   "execution_count": 44,
   "metadata": {},
   "outputs": [
    {
     "name": "stdout",
     "output_type": "stream",
     "text": [
      "YEEEEEEEHAWWWWWW\n",
      "YEEEEEEEHAWWWWWW\n",
      "YEEEEEEEHAWWWWWW\n",
      "YEEEEEEEHAWWWWWW\n"
     ]
    }
   ],
   "source": [
    "conv2Dto3D(\"/home/heris/data/LIDC-IDRI/LIDC-IDRI-0001/01-01-2000-NA-NA-30178/3000566.000000-NA-03192/\", \"/home/heris/data/RAW/YOLO_seg_dataset/train/images/\")"
   ]
  },
  {
   "cell_type": "code",
   "execution_count": 56,
   "metadata": {},
   "outputs": [
    {
     "name": "stdout",
     "output_type": "stream",
     "text": [
      "Bash Script Output:\n",
      "Recieved 23 and 20\n",
      "43\n",
      "44\n",
      "45\n",
      "46\n",
      "47\n",
      "48\n",
      "\n"
     ]
    }
   ],
   "source": [
    "import subprocess\n",
    "input_value1 = \"23\"\n",
    "input_value2 = \"20\"\n",
    "bash_path = \"test_bash_script_inside_python_remove_after.sh\"\n",
    "\n",
    "# Run the Bash script\n",
    "result = subprocess.run([\"bash\", bash_path, input_value1, input_value2], capture_output=True, text=True)\n",
    "\n",
    "# Print the output of the Bash script\n",
    "print(\"Bash Script Output:\")\n",
    "print(result.stdout)\n"
   ]
  },
  {
   "cell_type": "code",
   "execution_count": 63,
   "metadata": {},
   "outputs": [],
   "source": [
    "def just_testing_bash(name: str, age: int):\n",
    "    add_two = age + 2\n",
    "    text = f\"{name} is {age} years old. In two years {name} is {add_two} years old\"\n",
    "    return text, age, add_two\n",
    "\n",
    "bash_path = \"test_bash_script_inside_python_remove_after.sh\"\n",
    "\n",
    "text, age, age2 = just_testing_bash(\"Heris\", 23)\n",
    "age, age2 = str(age), str(age2)\n",
    "print(age, age2, text)\n",
    "result = subprocess.run([\"bash\", bash_path, text, age, age2], capture_output=True, text=True)"
   ]
  },
  {
   "cell_type": "code",
   "execution_count": null,
   "metadata": {},
   "outputs": [],
   "source": []
  }
 ],
 "metadata": {
  "kernelspec": {
   "display_name": "master",
   "language": "python",
   "name": "python3"
  },
  "language_info": {
   "codemirror_mode": {
    "name": "ipython",
    "version": 3
   },
   "file_extension": ".py",
   "mimetype": "text/x-python",
   "name": "python",
   "nbconvert_exporter": "python",
   "pygments_lexer": "ipython3",
   "version": "3.10.13"
  }
 },
 "nbformat": 4,
 "nbformat_minor": 2
}
