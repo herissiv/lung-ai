{
 "cells": [
  {
   "cell_type": "code",
   "execution_count": 1,
   "metadata": {},
   "outputs": [],
   "source": [
    "import os\n",
    "import nibabel as nib\n",
    "import numpy as np\n",
    "from scipy.ndimage import rotate\n",
    "import shutil"
   ]
  },
  {
   "cell_type": "code",
   "execution_count": 5,
   "metadata": {},
   "outputs": [
    {
     "name": "stdout",
     "output_type": "stream",
     "text": [
      "Rotated and mirrored: /home/heris/data/RAW/LIDC-IDRI/LIDC-IDRI-0017/LIDC-IDRI-0017.nii\n",
      "Processing of NIfTI files in the directory and its subfolders is complete.\n"
     ]
    }
   ],
   "source": [
    "# Define the root directory where NIfTI files are located\n",
    "root_directory = '/home/heris/data/RAW/LIDC-IDRI/LIDC-IDRI-0017'\n",
    "\n",
    "# Define the rotation angle in degrees (90 degrees counterclockwise)\n",
    "angle = 90\n",
    "\n",
    "# Function to rotate and save a NIfTI file\n",
    "def rotate_and_save_nifti(file_path):\n",
    "    try:\n",
    "        nifti_img = nib.load(file_path)\n",
    "        nifti_data = nifti_img.get_fdata()\n",
    "        affine_matrix = nifti_img.affine\n",
    "        rotated_data = rotate(nifti_data, angle, reshape=False)\n",
    "\n",
    "        # Backup the original file (optional)\n",
    "        backup_path = file_path + '.bak'\n",
    "        shutil.move(file_path, backup_path)\n",
    "\n",
    "        output_nifti = nib.Nifti1Image(rotated_data, affine=affine_matrix)\n",
    "    \n",
    "\n",
    "        # Extract the NIfTI image data as a numpy array\n",
    "        nifti_data_mirrored = output_nifti.get_fdata()\n",
    "\n",
    "        # Vertically mirror the image data\n",
    "        mirrored_data = np.flip(nifti_data_mirrored, axis=0)\n",
    "\n",
    "        # Update the affine transformation matrix if necessary (some datasets may require this)\n",
    "        # new_affine = nifti_img.affine  # No change in this example\n",
    "\n",
    "        # Save the mirrored data to a new NIfTI file\n",
    "        output_nifti = nib.Nifti1Image(mirrored_data, affine=output_nifti.affine)\n",
    "        nib.save(output_nifti, file_path)\n",
    "        print(f\"Rotated and mirrored: {file_path}\")\n",
    "    except Exception as e:\n",
    "        print(f\"Error processing {file_path}: {str(e)}\")\n",
    "    \n",
    "# Traverse the directory and its subfolders\n",
    "for folder, _, files in os.walk(root_directory):\n",
    "    for file in files:\n",
    "        if file.endswith('.nii') or file.endswith('.nii.gz'):\n",
    "            file_path = os.path.join(folder, file)\n",
    "            rotate_and_save_nifti(file_path)\n",
    "print(\"Processing of NIfTI files in the directory and its subfolders is complete.\")"
   ]
  },
  {
   "cell_type": "code",
   "execution_count": null,
   "metadata": {},
   "outputs": [],
   "source": []
  }
 ],
 "metadata": {
  "kernelspec": {
   "display_name": "master",
   "language": "python",
   "name": "python3"
  },
  "language_info": {
   "codemirror_mode": {
    "name": "ipython",
    "version": 3
   },
   "file_extension": ".py",
   "mimetype": "text/x-python",
   "name": "python",
   "nbconvert_exporter": "python",
   "pygments_lexer": "ipython3",
   "version": "3.10.13"
  }
 },
 "nbformat": 4,
 "nbformat_minor": 2
}
