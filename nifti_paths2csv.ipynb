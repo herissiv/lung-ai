{
 "cells": [
  {
   "cell_type": "markdown",
   "metadata": {},
   "source": [
    "### The following script gives me the path of the nifti files, and puts them together in a csv file. \n",
    "The following code is also heavily influenced by chatGPT"
   ]
  },
  {
   "cell_type": "code",
   "execution_count": 1,
   "metadata": {},
   "outputs": [],
   "source": [
    "import os\n",
    "import csv"
   ]
  },
  {
   "cell_type": "code",
   "execution_count": 3,
   "metadata": {},
   "outputs": [
    {
     "name": "stdout",
     "output_type": "stream",
     "text": [
      "18 pairs of CT and segmented NIfTI file paths have been written to nifti_ct_and_seg_paths.csv.\n"
     ]
    }
   ],
   "source": [
    "# Define the root directories for CT and segmented images\n",
    "ct_root_directory = '/home/heris/data/RAW/LIDC-IDRI'\n",
    "segmented_root_directory = '/home/heris/data/RAW/LIDC-IDRI-segmented'\n",
    "\n",
    "# Function to find matching CT and segmented NIfTI files\n",
    "def find_matching_nifti_pairs(ct_directory, segmented_directory):\n",
    "    ct_dir = os.listdir(ct_directory)\n",
    "    segmented_dir = os.listdir(segmented_directory)\n",
    "\n",
    "    # Filter files with the \".nii\" or \".nii.gz\" extension\n",
    "    # ct_nifti_files = [file for file in ct_files]\n",
    "    ct_nifti_files = []\n",
    "    for i in range(len(ct_dir)):\n",
    "        ct_nifti_files.append(os.listdir(ct_directory+\"/\"+ct_dir[i])[0])\n",
    "    \n",
    "\n",
    "    #segmented_nifti_files = [file for file in segmented_files]\n",
    "    segmented_nifti_files = []\n",
    "    for i in range(len(segmented_dir)):\n",
    "        segmented_nifti_files.append([file for file in os.listdir(segmented_directory+\"/\"+segmented_dir[i]) if file.endswith(\".nii\") or file.endswith(\".nii.gz\")][0])\n",
    "\n",
    "    # Create pairs of matching CT and segmented NIfTI files\n",
    "    nifti_pairs = []\n",
    "    for ct_file in ct_nifti_files:\n",
    "        suffix = ct_file[:14]  # Extract numerical suffix\n",
    "        segmented_match = [s for s in segmented_nifti_files if s.startswith(suffix)]\n",
    "        if segmented_match:\n",
    "            ct_path = os.path.join(ct_directory+\"/\"+ct_file[:14], ct_file)\n",
    "            segmented_path = os.path.join(segmented_directory+\"/\"+segmented_match[0][:14], segmented_match[0])\n",
    "            nifti_pairs.append((suffix, ct_path, segmented_path))\n",
    "\n",
    "    return nifti_pairs\n",
    "\n",
    "# Find matching CT and segmented NIfTI files\n",
    "nifti_pairs = find_matching_nifti_pairs(ct_root_directory, segmented_root_directory)\n",
    "\n",
    "# Define the CSV file to save the paths\n",
    "csv_file = 'nifti_ct_and_seg_paths.csv'\n",
    "\n",
    "# Write the paths to a CSV file\n",
    "with open(csv_file, 'w', newline='') as csvfile:\n",
    "    csv_writer = csv.writer(csvfile)\n",
    "    csv_writer.writerow(['Patient ID','CT NIfTI path', 'Segmented NIfTI path'])\n",
    "    csv_writer.writerows(nifti_pairs)\n",
    "\n",
    "print(f\"{len(nifti_pairs)} pairs of CT and segmented NIfTI file paths have been written to {csv_file}.\")\n",
    "\n",
    "\n",
    "\n"
   ]
  },
  {
   "cell_type": "code",
   "execution_count": null,
   "metadata": {},
   "outputs": [],
   "source": []
  }
 ],
 "metadata": {
  "kernelspec": {
   "display_name": "master",
   "language": "python",
   "name": "python3"
  },
  "language_info": {
   "codemirror_mode": {
    "name": "ipython",
    "version": 3
   },
   "file_extension": ".py",
   "mimetype": "text/x-python",
   "name": "python",
   "nbconvert_exporter": "python",
   "pygments_lexer": "ipython3",
   "version": "3.10.13"
  }
 },
 "nbformat": 4,
 "nbformat_minor": 2
}
