{
 "cells": [
  {
   "cell_type": "markdown",
   "metadata": {},
   "source": [
    "### The following script gives me the path of the nifti files, and puts them together in a csv file. \n",
    "The following code is also heavily influenced by chatGPT"
   ]
  },
  {
   "cell_type": "code",
   "execution_count": 2,
   "metadata": {},
   "outputs": [],
   "source": [
    "import os\n",
    "import csv "
   ]
  },
  {
   "cell_type": "code",
   "execution_count": 3,
   "metadata": {},
   "outputs": [],
   "source": [
    "def niipaths2csv(folder:str, computer:str):\n",
    "    # Define the directory where your NIfTI files are located\n",
    "    # Define the CSV file to save the paths\n",
    "    if folder == \"segmented\" and computer == \"mmiv\":\n",
    "        root_directory = '/home/heris/data/RAW/LIDC-IDRI-segmented/'\n",
    "        csv_file = 'nifti_segmented_paths.csv'\n",
    "    elif folder == \"raw\" and computer == \"mmiv\":\n",
    "        root_directory = '/home/heris/data/RAW/LIDC-IDRI/'\n",
    "        csv_file = 'nifti_raw_paths.csv'\n",
    "    else: raise SyntaxError\n",
    "\n",
    "    # Create a list to store the paths of NIfTI files\n",
    "    nifti_paths = []\n",
    "\n",
    "    # Function to recursively search for NIfTI files and append their paths\n",
    "    def find_nifti_files(directory):\n",
    "        for root, _, files in os.walk(directory):\n",
    "            for file in files:\n",
    "                if file.endswith('.nii') or file.endswith('.nii.gz'):\n",
    "                    nifti_path = os.path.join(root, file)\n",
    "                    nifti_paths.append(nifti_path)\n",
    "\n",
    "    # Call the function to populate nifti_paths\n",
    "    find_nifti_files(root_directory)\n",
    "\n",
    "\n",
    "    # Write the paths to a CSV file\n",
    "    with open(csv_file, 'w', newline='') as csvfile:\n",
    "        csv_writer = csv.writer(csvfile)\n",
    "        csv_writer.writerow(['NIfTI File Paths'])\n",
    "        csv_writer.writerows([[path] for path in nifti_paths])\n",
    "\n",
    "    print(f\"Paths of {len(nifti_paths)} NIfTI files have been written to {csv_file}.\")\n",
    "\n"
   ]
  },
  {
   "cell_type": "code",
   "execution_count": 4,
   "metadata": {},
   "outputs": [
    {
     "name": "stdout",
     "output_type": "stream",
     "text": [
      "Paths of 19 NIfTI files have been written to nifti_segmented_paths.csv.\n",
      "Paths of 19 NIfTI files have been written to nifti_raw_paths.csv.\n"
     ]
    }
   ],
   "source": [
    "niipaths2csv(folder=\"segmented\",computer=\"mmiv\")\n",
    "niipaths2csv(folder=\"raw\", computer=\"mmiv\")"
   ]
  },
  {
   "cell_type": "code",
   "execution_count": null,
   "metadata": {},
   "outputs": [],
   "source": []
  }
 ],
 "metadata": {
  "kernelspec": {
   "display_name": "master",
   "language": "python",
   "name": "python3"
  },
  "language_info": {
   "codemirror_mode": {
    "name": "ipython",
    "version": 3
   },
   "file_extension": ".py",
   "mimetype": "text/x-python",
   "name": "python",
   "nbconvert_exporter": "python",
   "pygments_lexer": "ipython3",
   "version": "3.10.13"
  }
 },
 "nbformat": 4,
 "nbformat_minor": 2
}
