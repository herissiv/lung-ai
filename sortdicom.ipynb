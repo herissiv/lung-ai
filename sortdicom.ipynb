{
 "cells": [
  {
   "attachments": {},
   "cell_type": "markdown",
   "metadata": {},
   "source": [
    "### Following code is a slightly modified code, that was provided by Hauke Bartsch from the following link: https://github.com/mmiv-center/Research-Information-System/blob/master/components/Workflow-Image-AI/src/templates/python/stub.py"
   ]
  },
  {
   "cell_type": "code",
   "execution_count": 99,
   "metadata": {},
   "outputs": [],
   "source": [
    "import pydicom\n",
    "import glob\n",
    "import numpy as np\n",
    "import sys\n",
    "import os\n",
    "import pandas as pd\n",
    "import json\n",
    "import matplotlib.pyplot as plt\n",
    "import matplotlib.gridspec as gridspec"
   ]
  },
  {
   "attachments": {},
   "cell_type": "markdown",
   "metadata": {},
   "source": [
    "### Remember to comment out which datafolders you're not using, according to your machine"
   ]
  },
  {
   "attachments": {},
   "cell_type": "markdown",
   "metadata": {},
   "source": [
    "The following folders are the paths for the alienware-ubuntu machine at MMIV "
   ]
  },
  {
   "cell_type": "code",
   "execution_count": 100,
   "metadata": {},
   "outputs": [],
   "source": [
    "def which_computer_folder(which_computer: str):\n",
    "    if which_computer == \"home\":\n",
    "        datafolder = \"C:/Users/Heris/OneDrive/Dokumenter/data/\"\n",
    "        outputfolder = \"C:/Users/Heris/OneDrive/Dokumenter/data/OUTPUT/\"\n",
    "    elif which_computer == \"mmiv\":\n",
    "        datafolder = \"/home/heris/data/LIDC-IDRI/\"\n",
    "        outputfolder = \"/home/heris/data/OUTPUT/LIDC-IDRI/\"\n",
    "    elif which_computer != \"home\" or which_computer != \"mmiv\":\n",
    "        raise ValueError\n",
    "    return datafolder, outputfolder"
   ]
  },
  {
   "cell_type": "code",
   "execution_count": 101,
   "metadata": {},
   "outputs": [],
   "source": [
    "datafolder , outputfolder = which_computer_folder(\"mmiv\")\n",
    "# datafolder , outputfolder = which_computer_folder(\"home\")"
   ]
  },
  {
   "cell_type": "code",
   "execution_count": 102,
   "metadata": {},
   "outputs": [
    {
     "data": {
      "text/plain": [
       "2     CT\n",
       "3     CT\n",
       "4     CT\n",
       "8     CT\n",
       "9     CT\n",
       "12    CT\n",
       "14    CT\n",
       "15    CT\n",
       "19    CT\n",
       "20    CT\n",
       "21    CT\n",
       "24    CT\n",
       "27    CT\n",
       "28    CT\n",
       "30    CT\n",
       "32    CT\n",
       "34    CT\n",
       "35    CT\n",
       "37    CT\n",
       "Name: Modality, dtype: object"
      ]
     },
     "execution_count": 102,
     "metadata": {},
     "output_type": "execute_result"
    }
   ],
   "source": [
    "metadata = pd.read_csv(datafolder+\"metadata.csv\")\n",
    "columns = metadata.columns\n",
    "metadata = metadata[metadata[\"Number of Images\"] >= 10]\n",
    "metadata[\"Modality\"]\n",
    "\n"
   ]
  },
  {
   "cell_type": "code",
   "execution_count": 103,
   "metadata": {},
   "outputs": [],
   "source": [
    "if not(os.path.exists(outputfolder)):\n",
    "    try:\n",
    "        os.mkdir(outputfolder,0o777)\n",
    "    except OSError as error:\n",
    "        (error)\n",
    "\n",
    "files = []\n",
    "lidc_idri_00xx = []\n",
    "for root, dirs, the_files in os.walk(datafolder):\n",
    "    lidc_idri_00xx = []\n",
    "    # len(dirs) = 0 tells us that we're in the final folder, and \n",
    "    # len(the_files) >= 10 tells us that we only want to look at folders with more than 10 images, \n",
    "    # CT is usually only the ones that have that many images \n",
    "    \"\"\" print(root, dirs, the_files) \"\"\"\n",
    "    \"\"\" path = root + \"/\" + the_files \"\"\"\n",
    "    \"\"\" if os.path.isdir(path):\n",
    "        continue \"\"\"\n",
    "    \n",
    "    if len(dirs) == 0 and len(the_files) >= 10:\n",
    "        lidc_idri_00xx = [] #Put every dicom files associated with one person in seperate lists, because the code below this cell if for a single volume\n",
    "        for dicomfile in the_files: \n",
    "            path = root+\"/\"+dicomfile\n",
    "            if os.path.isfile(path):\n",
    "                try: \n",
    "                    dicom = pydicom.dcmread(path)\n",
    "                    dicom.Modality\n",
    "                    lidc_idri_00xx.append(dicom)\n",
    "                except Exception as e: \n",
    "                    continue \n",
    "    if len(lidc_idri_00xx) > 0:\n",
    "        files.append(lidc_idri_00xx) #NB: Its a list with the dicomfiles that gets appended\n",
    "        \n",
    "    "
   ]
  },
  {
   "cell_type": "code",
   "execution_count": 109,
   "metadata": {},
   "outputs": [],
   "source": [
    "# make sure we only keep data that has the same shape as the first slice\n",
    "for i in range(len(files)):\n",
    "    files[i] = [a for a in files[i] if a.get(\"PixelData\") != None and a.pixel_array.shape == files[i][0].pixel_array.shape]\n",
    "\n",
    "\n",
    "# make sure we sort the slices by SliceLocation or, if that does not exist by InstanceNumber\n",
    "def sortFunc(s):\n",
    "    if \"SliceLocation\" in s:\n",
    "        return s.SliceLocation\n",
    "    else:\n",
    "        if \"InstanceNumber\" in s:\n",
    "            return s.InstanceNumber\n",
    "        return 0\n",
    "\n",
    "sup_slices = [] #supremum, the list above\n",
    "\n",
    "for i in range(len(files)):\n",
    "    slices = sorted(files[i], key=sortFunc) #slices contains many dcm files, and is a list as well \n",
    "    sup_slices.append(slices)\n",
    "\n"
   ]
  },
  {
   "cell_type": "code",
   "execution_count": 114,
   "metadata": {},
   "outputs": [],
   "source": [
    "import nibabel as nib "
   ]
  },
  {
   "cell_type": "code",
   "execution_count": 118,
   "metadata": {},
   "outputs": [],
   "source": [
    "\n",
    "    \n",
    "\n",
    "for sub_slices in sup_slices: #sub_slices = slices in this section in the original code at github \n",
    "    # pixel aspects, assuming all slices are the same\n",
    "    ps = sub_slices[0].get(\"PixelSpacing\", [1,1])\n",
    "    ss = sub_slices[0].get(\"SliceThickness\",1)\n",
    "    ax_aspect = ps[1]/ps[0]\n",
    "    sag_aspect = ps[1]/ss\n",
    "    cor_aspect = ps[0]/ss\n",
    "\n",
    "    # create 3D array\n",
    "    img_shape = list(sub_slices[0].pixel_array.shape)\n",
    "    img_shape.append(len(sub_slices))\n",
    "    img3d = np.zeros(img_shape)\n",
    "\n",
    "    \n",
    "\n",
    "    # fill 3D array with the images from the files\n",
    "    for i, s in enumerate(sub_slices):\n",
    "        img2d = s.pixel_array\n",
    "        img3d[:, :, i] = img2d\n",
    "\n",
    "    # Creating and saving files as nii\n",
    "    nifti_image = nib.Nifti1Image(img3d, affine = np.eye(4))\n",
    "    patient_path = outputfolder+\"/\"+str(sub_slices[0].PatientID)\n",
    "    os.mkdir(patient_path)\n",
    "    nib.save(nifti_image,patient_path+\"/\"+str(sub_slices[0].PatientID))\n",
    "\n",
    "    #The commented out code is for plotting\n",
    "\n",
    "    \"\"\" # plot 3 orthogonal slices\n",
    "    fig=plt.figure(figsize=(6,6))\n",
    "    fig.patch.set_facecolor('gray')\n",
    "    gs1 = gridspec.GridSpec(2,2)\n",
    "    gs1.update(wspace=0.025, hspace=0.05)\n",
    "\n",
    "    a1 = plt.subplot(gs1[0])\n",
    "    plt.imshow(img3d[:, :, img_shape[2]//2], cmap='gray')\n",
    "    a1.set_aspect(ax_aspect)\n",
    "    a1.set_xticklabels([])\n",
    "\n",
    "    a2 = plt.subplot(gs1[1])\n",
    "    plt.imshow(img3d[:, img_shape[1]//2, :], cmap='gray')\n",
    "    a2.set_aspect(sag_aspect)\n",
    "    a2.set_xticklabels([])\n",
    "    a2.set_yticklabels([])\n",
    "\n",
    "    a3 = plt.subplot(gs1[2])\n",
    "    plt.imshow(img3d[img_shape[0]//2, :, :], cmap='gray')\n",
    "    a3.set_aspect(cor_aspect)\n",
    "    a3.set_yticklabels([])\n",
    "\n",
    "    plt.show() \"\"\"\n"
   ]
  },
  {
   "cell_type": "code",
   "execution_count": null,
   "metadata": {},
   "outputs": [],
   "source": []
  }
 ],
 "metadata": {
  "kernelspec": {
   "display_name": "master",
   "language": "python",
   "name": "python3"
  },
  "language_info": {
   "codemirror_mode": {
    "name": "ipython",
    "version": 3
   },
   "file_extension": ".py",
   "mimetype": "text/x-python",
   "name": "python",
   "nbconvert_exporter": "python",
   "pygments_lexer": "ipython3",
   "version": "3.10.13"
  },
  "orig_nbformat": 4
 },
 "nbformat": 4,
 "nbformat_minor": 2
}
